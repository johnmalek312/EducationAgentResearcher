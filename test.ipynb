{
 "cells": [
  {
   "cell_type": "code",
   "execution_count": 3,
   "id": "6529e44a",
   "metadata": {},
   "outputs": [],
   "source": [
    "import json\n",
    "with open('test.json', 'r') as f:\n",
    "    questions = json.load(f)"
   ]
  },
  {
   "cell_type": "code",
   "execution_count": 7,
   "id": "32c7fae6",
   "metadata": {},
   "outputs": [],
   "source": [
    "for i, question in enumerate(questions):\n",
    "    a = question\n",
    "    question = question['question'] + \"\\n\\nAnswer options:\\n\" + \"\\n\".join(question['answers'])\n"
   ]
  },
  {
   "cell_type": "code",
   "execution_count": 9,
   "id": "ce328769",
   "metadata": {},
   "outputs": [
    {
     "name": "stdout",
     "output_type": "stream",
     "text": [
      "On CRICOS:\n",
      "\n",
      "Answer options:\n",
      "The provider code and course code will always be the same.\n",
      "The provider code changes each year.\n",
      "The course code is the same for every course that the education provider offers.\n",
      "The course code will be different for each course that the education provider offers depending on the length and topic of the course. The provider code will always be the same for a certain education provider.\n"
     ]
    }
   ],
   "source": [
    "print(question)"
   ]
  },
  {
   "cell_type": "code",
   "execution_count": null,
   "id": "91e9f17f",
   "metadata": {},
   "outputs": [],
   "source": []
  }
 ],
 "metadata": {
  "kernelspec": {
   "display_name": "venv",
   "language": "python",
   "name": "python3"
  },
  "language_info": {
   "codemirror_mode": {
    "name": "ipython",
    "version": 3
   },
   "file_extension": ".py",
   "mimetype": "text/x-python",
   "name": "python",
   "nbconvert_exporter": "python",
   "pygments_lexer": "ipython3",
   "version": "3.12.4"
  }
 },
 "nbformat": 4,
 "nbformat_minor": 5
}
